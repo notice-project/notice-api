{
 "cells": [
  {
   "cell_type": "code",
   "execution_count": 1,
   "metadata": {},
   "outputs": [
    {
     "name": "stdout",
     "output_type": "stream",
     "text": [
      "Collecting openai\n",
      "  Downloading openai-1.5.0-py3-none-any.whl (223 kB)\n",
      "Collecting pydantic<3,>=1.9.0\n",
      "  Downloading pydantic-2.5.2-py3-none-any.whl (381 kB)\n",
      "Collecting httpx<1,>=0.23.0\n",
      "  Downloading httpx-0.25.2-py3-none-any.whl (74 kB)\n",
      "Collecting typing-extensions<5,>=4.5\n",
      "  Downloading typing_extensions-4.9.0-py3-none-any.whl (32 kB)\n",
      "Collecting anyio<5,>=3.5.0\n",
      "  Downloading anyio-4.2.0-py3-none-any.whl (85 kB)\n",
      "Collecting sniffio\n",
      "  Downloading sniffio-1.3.0-py3-none-any.whl (10 kB)\n",
      "Collecting tqdm>4\n",
      "  Downloading tqdm-4.66.1-py3-none-any.whl (78 kB)\n",
      "Collecting distro<2,>=1.7.0\n",
      "  Downloading distro-1.8.0-py3-none-any.whl (20 kB)\n",
      "Collecting idna>=2.8\n",
      "  Using cached idna-3.6-py3-none-any.whl (61 kB)\n",
      "Requirement already satisfied: exceptiongroup>=1.0.2 in c:\\users\\homeuser\\appdata\\roaming\\python\\python310\\site-packages (from anyio<5,>=3.5.0->openai) (1.2.0)\n",
      "Collecting httpcore==1.*\n",
      "  Downloading httpcore-1.0.2-py3-none-any.whl (76 kB)\n",
      "Collecting certifi\n",
      "  Using cached certifi-2023.11.17-py3-none-any.whl (162 kB)\n",
      "Collecting h11<0.15,>=0.13\n",
      "  Downloading h11-0.14.0-py3-none-any.whl (58 kB)\n",
      "Collecting annotated-types>=0.4.0\n",
      "  Downloading annotated_types-0.6.0-py3-none-any.whl (12 kB)\n",
      "Collecting pydantic-core==2.14.5\n",
      "  Downloading pydantic_core-2.14.5-cp310-none-win_amd64.whl (1.9 MB)\n",
      "Requirement already satisfied: colorama in c:\\users\\homeuser\\appdata\\roaming\\python\\python310\\site-packages (from tqdm>4->openai) (0.4.6)\n",
      "Installing collected packages: typing-extensions, sniffio, idna, h11, certifi, pydantic-core, httpcore, anyio, annotated-types, tqdm, pydantic, httpx, distro, openai\n",
      "Successfully installed annotated-types-0.6.0 anyio-4.2.0 certifi-2023.11.17 distro-1.8.0 h11-0.14.0 httpcore-1.0.2 httpx-0.25.2 idna-3.6 openai-1.5.0 pydantic-2.5.2 pydantic-core-2.14.5 sniffio-1.3.0 tqdm-4.66.1 typing-extensions-4.9.0\n"
     ]
    },
    {
     "name": "stderr",
     "output_type": "stream",
     "text": [
      "WARNING: You are using pip version 21.2.3; however, version 23.3.1 is available.\n",
      "You should consider upgrading via the 'C:\\Users\\Homeuser\\AppData\\Local\\Programs\\Python\\Python310\\python.exe -m pip install --upgrade pip' command.\n"
     ]
    },
    {
     "name": "stdout",
     "output_type": "stream",
     "text": [
      "Collecting langchain\n",
      "  Downloading langchain-0.0.350-py3-none-any.whl (809 kB)\n",
      "Collecting async-timeout<5.0.0,>=4.0.0\n",
      "  Downloading async_timeout-4.0.3-py3-none-any.whl (5.7 kB)\n",
      "Collecting jsonpatch<2.0,>=1.33\n",
      "  Downloading jsonpatch-1.33-py2.py3-none-any.whl (12 kB)\n",
      "Collecting langsmith<0.1.0,>=0.0.63\n",
      "  Downloading langsmith-0.0.71-py3-none-any.whl (46 kB)\n",
      "Collecting numpy<2,>=1\n",
      "  Downloading numpy-1.26.2-cp310-cp310-win_amd64.whl (15.8 MB)\n",
      "Collecting dataclasses-json<0.7,>=0.5.7\n",
      "  Downloading dataclasses_json-0.6.3-py3-none-any.whl (28 kB)\n",
      "Requirement already satisfied: pydantic<3,>=1 in c:\\users\\homeuser\\appdata\\local\\programs\\python\\python310\\lib\\site-packages (from langchain) (2.5.2)\n",
      "Collecting requests<3,>=2\n",
      "  Using cached requests-2.31.0-py3-none-any.whl (62 kB)\n",
      "Collecting langchain-core<0.2,>=0.1\n",
      "  Downloading langchain_core-0.1.1-py3-none-any.whl (190 kB)\n",
      "Collecting tenacity<9.0.0,>=8.1.0\n",
      "  Downloading tenacity-8.2.3-py3-none-any.whl (24 kB)\n",
      "Collecting SQLAlchemy<3,>=1.4\n",
      "  Downloading SQLAlchemy-2.0.23-cp310-cp310-win_amd64.whl (2.1 MB)\n",
      "Collecting aiohttp<4.0.0,>=3.8.3\n",
      "  Downloading aiohttp-3.9.1-cp310-cp310-win_amd64.whl (364 kB)\n",
      "Collecting PyYAML>=5.3\n",
      "  Downloading PyYAML-6.0.1-cp310-cp310-win_amd64.whl (145 kB)\n",
      "Collecting langchain-community<0.1,>=0.0.2\n",
      "  Downloading langchain_community-0.0.3-py3-none-any.whl (1.5 MB)\n",
      "Collecting attrs>=17.3.0\n",
      "  Downloading attrs-23.1.0-py3-none-any.whl (61 kB)\n",
      "Collecting yarl<2.0,>=1.0\n",
      "  Downloading yarl-1.9.4-cp310-cp310-win_amd64.whl (76 kB)\n",
      "Collecting aiosignal>=1.1.2\n",
      "  Downloading aiosignal-1.3.1-py3-none-any.whl (7.6 kB)\n",
      "Collecting multidict<7.0,>=4.5\n",
      "  Downloading multidict-6.0.4-cp310-cp310-win_amd64.whl (28 kB)\n",
      "Collecting frozenlist>=1.1.1\n",
      "  Downloading frozenlist-1.4.1-cp310-cp310-win_amd64.whl (50 kB)\n",
      "Collecting typing-inspect<1,>=0.4.0\n",
      "  Downloading typing_inspect-0.9.0-py3-none-any.whl (8.8 kB)\n",
      "Collecting marshmallow<4.0.0,>=3.18.0\n",
      "  Downloading marshmallow-3.20.1-py3-none-any.whl (49 kB)\n",
      "Collecting jsonpointer>=1.9\n",
      "  Downloading jsonpointer-2.4-py2.py3-none-any.whl (7.8 kB)\n",
      "Requirement already satisfied: anyio<5,>=3 in c:\\users\\homeuser\\appdata\\local\\programs\\python\\python310\\lib\\site-packages (from langchain-core<0.2,>=0.1->langchain) (4.2.0)\n",
      "Requirement already satisfied: packaging<24.0,>=23.2 in c:\\users\\homeuser\\appdata\\roaming\\python\\python310\\site-packages (from langchain-core<0.2,>=0.1->langchain) (23.2)\n",
      "Requirement already satisfied: exceptiongroup>=1.0.2 in c:\\users\\homeuser\\appdata\\roaming\\python\\python310\\site-packages (from anyio<5,>=3->langchain-core<0.2,>=0.1->langchain) (1.2.0)\n",
      "Requirement already satisfied: sniffio>=1.1 in c:\\users\\homeuser\\appdata\\local\\programs\\python\\python310\\lib\\site-packages (from anyio<5,>=3->langchain-core<0.2,>=0.1->langchain) (1.3.0)\n",
      "Requirement already satisfied: idna>=2.8 in c:\\users\\homeuser\\appdata\\local\\programs\\python\\python310\\lib\\site-packages (from anyio<5,>=3->langchain-core<0.2,>=0.1->langchain) (3.6)\n",
      "Requirement already satisfied: typing-extensions>=4.1 in c:\\users\\homeuser\\appdata\\local\\programs\\python\\python310\\lib\\site-packages (from anyio<5,>=3->langchain-core<0.2,>=0.1->langchain) (4.9.0)\n",
      "Requirement already satisfied: annotated-types>=0.4.0 in c:\\users\\homeuser\\appdata\\local\\programs\\python\\python310\\lib\\site-packages (from pydantic<3,>=1->langchain) (0.6.0)\n",
      "Requirement already satisfied: pydantic-core==2.14.5 in c:\\users\\homeuser\\appdata\\local\\programs\\python\\python310\\lib\\site-packages (from pydantic<3,>=1->langchain) (2.14.5)\n",
      "Collecting urllib3<3,>=1.21.1\n",
      "  Using cached urllib3-2.1.0-py3-none-any.whl (104 kB)\n",
      "Collecting charset-normalizer<4,>=2\n",
      "  Downloading charset_normalizer-3.3.2-cp310-cp310-win_amd64.whl (100 kB)\n",
      "Requirement already satisfied: certifi>=2017.4.17 in c:\\users\\homeuser\\appdata\\local\\programs\\python\\python310\\lib\\site-packages (from requests<3,>=2->langchain) (2023.11.17)\n",
      "Collecting greenlet!=0.4.17\n",
      "  Downloading greenlet-3.0.2-cp310-cp310-win_amd64.whl (288 kB)\n",
      "Collecting mypy-extensions>=0.3.0\n",
      "  Downloading mypy_extensions-1.0.0-py3-none-any.whl (4.7 kB)\n",
      "Installing collected packages: urllib3, charset-normalizer, requests, mypy-extensions, multidict, jsonpointer, frozenlist, yarl, typing-inspect, tenacity, PyYAML, marshmallow, langsmith, jsonpatch, greenlet, attrs, async-timeout, aiosignal, SQLAlchemy, numpy, langchain-core, dataclasses-json, aiohttp, langchain-community, langchain\n",
      "Successfully installed PyYAML-6.0.1 SQLAlchemy-2.0.23 aiohttp-3.9.1 aiosignal-1.3.1 async-timeout-4.0.3 attrs-23.1.0 charset-normalizer-3.3.2 dataclasses-json-0.6.3 frozenlist-1.4.1 greenlet-3.0.2 jsonpatch-1.33 jsonpointer-2.4 langchain-0.0.350 langchain-community-0.0.3 langchain-core-0.1.1 langsmith-0.0.71 marshmallow-3.20.1 multidict-6.0.4 mypy-extensions-1.0.0 numpy-1.26.2 requests-2.31.0 tenacity-8.2.3 typing-inspect-0.9.0 urllib3-2.1.0 yarl-1.9.4\n"
     ]
    },
    {
     "name": "stderr",
     "output_type": "stream",
     "text": [
      "WARNING: You are using pip version 21.2.3; however, version 23.3.1 is available.\n",
      "You should consider upgrading via the 'C:\\Users\\Homeuser\\AppData\\Local\\Programs\\Python\\Python310\\python.exe -m pip install --upgrade pip' command.\n"
     ]
    },
    {
     "name": "stdout",
     "output_type": "stream",
     "text": [
      "Collecting pysrt\n",
      "  Downloading pysrt-1.1.2.tar.gz (104 kB)\n",
      "Collecting chardet\n",
      "  Downloading chardet-5.2.0-py3-none-any.whl (199 kB)\n",
      "Using legacy 'setup.py install' for pysrt, since package 'wheel' is not installed.\n",
      "Installing collected packages: chardet, pysrt\n",
      "    Running setup.py install for pysrt: started\n",
      "    Running setup.py install for pysrt: finished with status 'done'\n",
      "Successfully installed chardet-5.2.0 pysrt-1.1.2\n"
     ]
    },
    {
     "name": "stderr",
     "output_type": "stream",
     "text": [
      "WARNING: You are using pip version 21.2.3; however, version 23.3.1 is available.\n",
      "You should consider upgrading via the 'C:\\Users\\Homeuser\\AppData\\Local\\Programs\\Python\\Python310\\python.exe -m pip install --upgrade pip' command.\n"
     ]
    }
   ],
   "source": [
    "!pip install openai\n",
    "!pip install langchain\n",
    "!pip install pysrt"
   ]
  },
  {
   "cell_type": "code",
   "execution_count": 2,
   "metadata": {},
   "outputs": [],
   "source": [
    "input1=\"東門市場是濟州島三大市場中最大也是最好逛的一個，連接七星商店街、中央地下街，構成濟州島最繁華的區域，濟州島的海鮮、漁貨特別新鮮，市場裡可以嚐到許多海鮮醃漬品和傳統小吃，基本的辣炒年糕、紫菜包飯、魚板等都有，另外任何濟州島名產，像柑橘製品、綠茶、巧克力和石頭爺爺紀念品都能買到。韓國服飾、流行物件、小文具則集中在七星商店街跟中央地下街，價格比首爾便宜很多，喜愛逛街的遊客絕對要來！\"\n",
    "input2=\"既然換機油很重要，很多人也關心機車換機油里程數、更換週期的問題，那麼究竟機車黑油多久換一次？機車機油多久換才正確呢？由於不同車款的引擎運轉速度不同、不同車主的使用習慣也不同，建議你先了解自己的機車使用情況！首先，你可以根據「使用情況」判斷，若是常常怠速、走走停停的短程代步會使引擎內的溫度一直很高，造成機油的效能下降，就需要更頻繁換機油，比如台灣人常有的騎車習慣，包括兩段式左轉、在菜市場騎車購物等。其次是評估「騎車環境」，比如台灣氣候溼熱，機油更易變質；或若常前往海邊或風沙大的地方也應該要更頻繁更換機油。還有可以視「車況、車種」而定，像是時常有人詢問「新車多久換機油、新車機油多久換一次」，基本上新機車換機油頻率可參考機車原廠說明書，一般大多是300至500公里換第1次機油，1,000公里時換第2次機油，接著就從自己的使用情況來判斷，約1,000至2,000公里進行更換較佳。而重機機油多久換呢？重機的更換頻率比一般機車來得低，除了檢查機油尺外，若感受到卡檔也可進行更換，約3,000至5,000公里換1次即可。最後你可以看「機油種類」，通常礦物油的更換頻率大於全合成機油。基於很多人也常問，機車齒輪油多久換一次？為了方便記憶，只要記得「每換2次機油，就換1次齒輪油」就可以了喔！\""
   ]
  },
  {
   "cell_type": "markdown",
   "metadata": {},
   "source": [
    "把逐字稿丟進去，先去掉多餘的字再變成列點式。\n",
    "輸入API KEY及input，執行overall_chain.run(input)。"
   ]
  },
  {
   "cell_type": "code",
   "execution_count": 4,
   "metadata": {},
   "outputs": [
    {
     "name": "stdout",
     "output_type": "stream",
     "text": [
      "\n",
      "\n",
      "\u001b[1m> Entering new SimpleSequentialChain chain...\u001b[0m\n",
      "\u001b[36;1m\u001b[1;3m• 東門市場是濟州島三大市場裡最大且最值得逛的一個，聯外七星商店街和中央地下街，構成濟州島最繁華的區域。\n",
      "• 濟州島新鮮的海鮮及漁貨，市場裡可以品嚐到許多海鮮醃漬品和傳統小吃，像辣炒年糕、紫菜包飯、魚板等等。\n",
      "• 濟州島的名產，如柑\u001b[0m\n",
      "\u001b[33;1m\u001b[1;3m• 東門市場: 最大且最值得逛的三大市場之一\n",
      "• 聯外七星商店街和中央地下街: 構成濟州島最繁華的區域\n",
      "• 海鮮及漁貨: 可在市場中品嚐到許多海鮮醃漬品和傳統小吃\n",
      "• 柑: 濟州島的名產\u001b[0m\n",
      "\n",
      "\u001b[1m> Finished chain.\u001b[0m\n"
     ]
    }
   ],
   "source": [
    "from langchain.llms import OpenAI\n",
    "from langchain.chains import LLMChain\n",
    "from langchain.prompts import PromptTemplate\n",
    "from langchain.chains import SimpleSequentialChain\n",
    "llm = OpenAI(temperature=1, openai_api_key=\"keeeeey\")\n",
    "## 建立模板\n",
    "template = '''去掉這段話的冗言贅字\n",
    "% TRANSCRIPT\n",
    "{transcript}\n",
    "\n",
    "你的回复:\n",
    "'''\n",
    "prompt_template = PromptTemplate(input_variables=[\"transcript\"], template=template)\n",
    "# 建立location的chain\n",
    "chain1 = LLMChain(llm=llm, prompt=prompt_template)\n",
    "## 接下来获取chain的返回结果输入到下一个chain中\n",
    "\n",
    "writingstemplate = '''把這段話變列點式、\n",
    "% writings\n",
    "{writings}\n",
    "\n",
    "您的回复:\n",
    "'''\n",
    "prompt_template = PromptTemplate(input_variables=[\"writings\"], template=writingstemplate)\n",
    "chain1 = LLMChain(llm=llm, prompt=prompt_template)\n",
    "# 建立meal的chain\n",
    "chain2 = LLMChain(llm=llm, prompt=prompt_template)\n",
    "# 建立简单链\n",
    "overall_chain = SimpleSequentialChain(chains=[chain1, chain2], verbose=True)\n",
    "outcome = overall_chain.run(input1)"
   ]
  },
  {
   "cell_type": "markdown",
   "metadata": {},
   "source": [
    "把整理好的筆記跟user的筆記做對比，補足缺少部分"
   ]
  },
  {
   "cell_type": "code",
   "execution_count": 5,
   "metadata": {},
   "outputs": [
    {
     "name": "stdout",
     "output_type": "stream",
     "text": [
      "Concatenated output:\n",
      "\n",
      "\n",
      "1. 東門市場：最大、最好逛的濟州島三大市場 \n",
      "2. 連接七星商店街、中央地下街，構成濟州島最繁華的區域\n",
      "3. 海鮮、漁貨新鮮、可嚐許多海鮮醃漬品和傳統小吃 \n",
      "4. 辣炒年糕、紫菜包飯、魚板以及濟州島名產：柑橘製品、綠茶、巧克力等\n",
      "5. 七星商店街、\n",
      "\n",
      "東門市場是濟州島最大也是最繁華的區域，在市場裡可以買到新鮮的海鮮、漁貨以及傳統濟州島小吃，並且可以買到很多濟州島名產，另外在七星商店街以及中央地下街也能买到韓國服飾、流行物件等價格比首爾低很多，很適合喜愛逛街的遊客。\n"
     ]
    }
   ],
   "source": [
    "from langchain.chains import LLMChain\n",
    "from langchain.chains.base import Chain\n",
    "\n",
    "from typing import Dict, List\n",
    "\n",
    "\n",
    "class ConcatenateChain(Chain):\n",
    "    chain_1: LLMChain\n",
    "    chain_2: LLMChain\n",
    "\n",
    "    @property\n",
    "    def input_keys(self) -> List[str]:\n",
    "        # 两个input_key的并集\n",
    "        all_input_vars = set(self.chain_1.input_keys).union(set(self.chain_2.input_keys))\n",
    "        return list(all_input_vars)\n",
    "\n",
    "    @property\n",
    "    def output_keys(self) -> List[str]:\n",
    "        return ['concat_output']\n",
    "\n",
    "    def _call(self, inputs: Dict[str, str]) -> Dict[str, str]:\n",
    "        output_1 = self.chain_1.run(inputs)\n",
    "        output_2 = self.chain_2.run(inputs)\n",
    "        return {'concat_output': output_1 + output_2}\n",
    "prompt_1 = PromptTemplate(\n",
    "    input_variables=[\"product\"],\n",
    "    template=\"请给我這段話的列點式整理 {product} \",\n",
    ")\n",
    "chain_1 = LLMChain(llm=llm, prompt=prompt_1)\n",
    "\n",
    "prompt_2 = PromptTemplate(\n",
    "    input_variables=[\"product\"],\n",
    "    template=\"请给我這段話的大意 {product}?\",\n",
    ")\n",
    "chain_2 = LLMChain(llm=llm, prompt=prompt_2)\n",
    "## 连接chain\n",
    "concat_chain = ConcatenateChain(chain_1=chain_1, chain_2=chain_2)\n",
    "concat_output = concat_chain.run(input1)\n",
    "print(f\"Concatenated output:\\n{concat_output}\")"
   ]
  }
 ],
 "metadata": {
  "kernelspec": {
   "display_name": "Python 3",
   "language": "python",
   "name": "python3"
  },
  "language_info": {
   "codemirror_mode": {
    "name": "ipython",
    "version": 3
   },
   "file_extension": ".py",
   "mimetype": "text/x-python",
   "name": "python",
   "nbconvert_exporter": "python",
   "pygments_lexer": "ipython3",
   "version": "3.10.0"
  }
 },
 "nbformat": 4,
 "nbformat_minor": 2
}
